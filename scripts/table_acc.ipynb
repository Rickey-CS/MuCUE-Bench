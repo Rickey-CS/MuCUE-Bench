{
 "cells": [
  {
   "cell_type": "code",
   "execution_count": 2,
   "metadata": {},
   "outputs": [],
   "source": [
    "import pandas as pd\n",
    "import numpy as np\n",
    "import os\n",
    "import json\n",
    "from datasets import load_dataset\n",
    "import datasets"
   ]
  },
  {
   "cell_type": "code",
   "execution_count": null,
   "metadata": {},
   "outputs": [],
   "source": [
    "models=['gemini','Qwen2.5-Omni-7B','Kimi-Audio-7B-Instruct','Qwen2-Audio-7B-Instruct']"
   ]
  },
  {
   "cell_type": "code",
   "execution_count": null,
   "metadata": {},
   "outputs": [],
   "source": [
    "ds = load_dataset(\"Yi3852/MuCUE\", revision=\"main\", trust_remote_code=True).cast_column(\"audio\", datasets.Audio(decode=False))\n",
    "data_names=list(ds.keys())"
   ]
  },
  {
   "cell_type": "code",
   "execution_count": null,
   "metadata": {},
   "outputs": [],
   "source": [
    "accuracy_dict = {}\n",
    "for model_name in models:\n",
    "    for data_name in data_names:\n",
    "        save_path = '../outputs/{}_{}.json'.format(model_name, data_name)\n",
    "        with open(save_path, 'r') as file:\n",
    "            data = json.load(file)\n",
    "        \n",
    "        question_num = 0\n",
    "        correct_num = 0\n",
    "        for item in data:\n",
    "            if \"pred_choice\" in item: \n",
    "                question_num += 1\n",
    "                if item[\"pred_choice\"] == item[\"correct_choice\"]:\n",
    "                    correct_num += 1\n",
    "        \n",
    "        assert question_num >= 200, f\"Error: {model_name} on {data_name} has fewer than 300 questions.\"\n",
    "        \n",
    "        accuracy = 100 * (correct_num / question_num)\n",
    "        \n",
    "        if data_name not in accuracy_dict:\n",
    "            accuracy_dict[data_name] = {}\n",
    "        accuracy_dict[data_name][model_name] = accuracy\n",
    "\n",
    "accuracy_df = pd.DataFrame(accuracy_dict).T  \n",
    "print(accuracy_df)\n",
    "accuracy_df.to_csv(\"accuracy_results.csv\")"
   ]
  }
 ],
 "metadata": {
  "kernelspec": {
   "display_name": "openr1",
   "language": "python",
   "name": "python3"
  },
  "language_info": {
   "codemirror_mode": {
    "name": "ipython",
    "version": 3
   },
   "file_extension": ".py",
   "mimetype": "text/x-python",
   "name": "python",
   "nbconvert_exporter": "python",
   "pygments_lexer": "ipython3",
   "version": "3.11.11"
  }
 },
 "nbformat": 4,
 "nbformat_minor": 2
}
